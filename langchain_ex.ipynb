{
 "cells": [
  {
   "metadata": {},
   "cell_type": "markdown",
   "source": [
    "## Trip Planner\n",
    "#### Plan a trip to a destination based on preferences\n"
   ],
   "id": "8480283b9c12793"
  },
  {
   "metadata": {
    "ExecuteTime": {
     "end_time": "2025-08-31T11:25:05.044321Z",
     "start_time": "2025-08-31T11:25:02.997068Z"
    }
   },
   "cell_type": "code",
   "source": [
    "# If you don't use requirements.txt, run the following command:\n",
    "\n",
    "!pip install ipython langgraph langchain-core langchain-openai python-dotenv --quiet"
   ],
   "id": "f68069b3ac9ad423",
   "outputs": [
    {
     "name": "stdout",
     "output_type": "stream",
     "text": [
      "\r\n",
      "\u001B[1m[\u001B[0m\u001B[34;49mnotice\u001B[0m\u001B[1;39;49m]\u001B[0m\u001B[39;49m A new release of pip is available: \u001B[0m\u001B[31;49m25.1.1\u001B[0m\u001B[39;49m -> \u001B[0m\u001B[32;49m25.2\u001B[0m\r\n",
      "\u001B[1m[\u001B[0m\u001B[34;49mnotice\u001B[0m\u001B[1;39;49m]\u001B[0m\u001B[39;49m To update, run: \u001B[0m\u001B[32;49mpip install --upgrade pip\u001B[0m\r\n"
     ]
    }
   ],
   "execution_count": 42
  },
  {
   "metadata": {
    "collapsed": true,
    "ExecuteTime": {
     "end_time": "2025-08-31T11:25:05.077637Z",
     "start_time": "2025-08-31T11:25:05.070937Z"
    }
   },
   "cell_type": "code",
   "source": [
    "# Environment Setup:\n",
    "# 1. Create a .env file in your project root if it doesn't exist\n",
    "# 2. Add your OpenAI API key: OPENAI_API_KEY='your-api-key-here'\n",
    "#    Example: OPENAI_API_KEY='sk-...'\n",
    "# Note: Make sure to add .env to your .gitignore file\n",
    "\n",
    "# Standard Libraries\n",
    "from dotenv import load_dotenv\n",
    "# IPython\n",
    "from IPython.display import display, Markdown\n",
    "# Langchain\n",
    "from langchain_openai import ChatOpenAI\n",
    "from langchain_core.prompts import ChatPromptTemplate\n",
    "from langchain_core.output_parsers import StrOutputParser"
   ],
   "id": "initial_id",
   "outputs": [],
   "execution_count": 43
  },
  {
   "metadata": {
    "ExecuteTime": {
     "end_time": "2025-08-31T11:25:05.111390Z",
     "start_time": "2025-08-31T11:25:05.103749Z"
    }
   },
   "cell_type": "code",
   "source": "_ = load_dotenv()",
   "id": "ee2f3c97ed404f3d",
   "outputs": [],
   "execution_count": 44
  },
  {
   "metadata": {
    "ExecuteTime": {
     "end_time": "2025-08-31T11:25:05.151232Z",
     "start_time": "2025-08-31T11:25:05.133480Z"
    }
   },
   "cell_type": "code",
   "source": "model = ChatOpenAI(model_name=\"gpt-4o\")",
   "id": "e63e759ec707e64e",
   "outputs": [],
   "execution_count": 45
  },
  {
   "metadata": {
    "ExecuteTime": {
     "end_time": "2025-08-31T11:25:05.176456Z",
     "start_time": "2025-08-31T11:25:05.168511Z"
    }
   },
   "cell_type": "code",
   "source": [
    "system_prompt = \"\"\"\n",
    "you are a trip planner expert. Help me plan a trip to {destination}. Consider my preferences for {preferences}.\"\"\"\n",
    "\n",
    "prompt_template = ChatPromptTemplate.from_messages([\n",
    "    (\"system\", system_prompt),\n",
    "    (\"user\", \"What should I do in {destination}?\")\n",
    "    ])\n"
   ],
   "id": "e55466d8990a9c09",
   "outputs": [],
   "execution_count": 46
  },
  {
   "metadata": {
    "ExecuteTime": {
     "end_time": "2025-08-31T11:25:05.199340Z",
     "start_time": "2025-08-31T11:25:05.195264Z"
    }
   },
   "cell_type": "code",
   "source": "parser = StrOutputParser()",
   "id": "6972d166d8337bae",
   "outputs": [],
   "execution_count": 47
  },
  {
   "metadata": {
    "ExecuteTime": {
     "end_time": "2025-08-31T11:25:05.226851Z",
     "start_time": "2025-08-31T11:25:05.222259Z"
    }
   },
   "cell_type": "code",
   "source": "trip_planner_chain = prompt_template | model | parser",
   "id": "5d20af5d87ee3e9d",
   "outputs": [],
   "execution_count": 48
  },
  {
   "metadata": {
    "ExecuteTime": {
     "end_time": "2025-08-31T11:25:05.252011Z",
     "start_time": "2025-08-31T11:25:05.247612Z"
    }
   },
   "cell_type": "code",
   "source": [
    "def plan_trip(destination, preferences):\n",
    "    input_data = {\"destination\": destination, \"preferences\": preferences}\n",
    "    return trip_planner_chain.invoke(input_data)"
   ],
   "id": "7d12c58dafc2867d",
   "outputs": [],
   "execution_count": 49
  },
  {
   "metadata": {},
   "cell_type": "markdown",
   "source": "### Helper function to render Markdown",
   "id": "c6fdb87f0814f352"
  },
  {
   "metadata": {
    "ExecuteTime": {
     "end_time": "2025-08-31T11:25:05.280392Z",
     "start_time": "2025-08-31T11:25:05.276117Z"
    }
   },
   "cell_type": "code",
   "source": [
    "def render_markdown(markdown_str):\n",
    "    display(Markdown(markdown_str))"
   ],
   "id": "696b0e758d872911",
   "outputs": [],
   "execution_count": 50
  },
  {
   "metadata": {
    "ExecuteTime": {
     "end_time": "2025-08-31T11:25:13.797775Z",
     "start_time": "2025-08-31T11:25:05.304897Z"
    }
   },
   "cell_type": "code",
   "source": "result = plan_trip(\"New York\", \"relaxing\")",
   "id": "53ff4ab823084bf5",
   "outputs": [],
   "execution_count": 51
  },
  {
   "metadata": {
    "ExecuteTime": {
     "end_time": "2025-08-31T11:25:13.868063Z",
     "start_time": "2025-08-31T11:25:13.854195Z"
    }
   },
   "cell_type": "code",
   "source": "render_markdown(result)",
   "id": "ea85522de83326ce",
   "outputs": [
    {
     "data": {
      "text/plain": [
       "<IPython.core.display.Markdown object>"
      ],
      "text/markdown": "For a relaxing trip to New York, you can focus on experiences that offer tranquility and a slower pace, while still enjoying the city's unique charm. Here’s a suggested itinerary:\n\n### Day 1: Exploring Central Park and Surroundings\n- **Morning**: Start your day with a leisurely stroll or rent a bike to explore Central Park. Visit the Conservatory Garden for a peaceful experience.\n- **Lunch**: Have a picnic on the Great Lawn or dine at the Loeb Boathouse overlooking the lake.\n- **Afternoon**: Visit the American Museum of Natural History, located just on the west side of the park, for a cultural break.\n- **Evening**: Enjoy a quiet dinner at Café Sabarsky, located in the Neue Galerie, offering a cozy Viennese setting.\n\n### Day 2: Culture and Nature\n- **Morning**: Head over to the High Line, an elevated linear park built on a former railway track. Enjoy a leisurely walk through its beautifully curated gardens.\n- **Lunch**: Stop by Chelsea Market nearby for a wide selection of food options in a relaxed, artisanal market setting.\n- **Afternoon**: Spend time at the Whitney Museum of American Art, located at the southern tip of the High Line, to view some contemporary art.\n- **Evening**: Unwind at a jazz club, such as The Blue Note, where you can enjoy live jazz music in an intimate environment.\n\n### Day 3: Reflection and Spa\n- **Morning**: Visit The Met Cloisters, situated in Fort Tryon Park, for a serene experience exploring medieval art and architecture.\n- **Lunch**: Have a meal at New Leaf Restaurant & Bar in Fort Tryon Park, offering a relaxing forest setting.\n- **Afternoon**: Treat yourself to a spa session at Aire Ancient Baths in Tribeca, a serene space inspired by ancient Roman, Greek, and Ottoman traditions.\n- **Evening**: Have a quiet dinner at Buvette in the West Village for a delightful French bistro experience.\n\n### Day 4: Island Escape\n- **Morning**: Take the ferry to Governors Island. Rent a bike or simply take a peaceful walk exploring the island's art installations and historic sites.\n- **Lunch**: Enjoy a light meal at one of the local food vendors or pack a picnic.\n- **Afternoon**: Relax in Hammock Grove or catch one of the wellness programs or guided nature walks.\n- **Evening**: Return to Manhattan for a sunset rooftop experience at a calm spot like the Refinery Rooftop with beautiful skyline views.\n\nThis itinerary blends relaxation with cultural and natural attractions, allowing you to enjoy New York City at a leisurely pace. Remember to tailor each day based on your specific interests and take your time to enjoy each experience."
     },
     "metadata": {},
     "output_type": "display_data"
    }
   ],
   "execution_count": 52
  },
  {
   "metadata": {},
   "cell_type": "markdown",
   "source": "### Chennai Trip to explore temples and try local food",
   "id": "502edb4e20fad739"
  },
  {
   "metadata": {
    "ExecuteTime": {
     "end_time": "2025-08-31T11:25:23.084203Z",
     "start_time": "2025-08-31T11:25:13.914916Z"
    }
   },
   "cell_type": "code",
   "source": "result = plan_trip(\"Chennai\", \"temples,food\")",
   "id": "633ed6f34bece22f",
   "outputs": [],
   "execution_count": 53
  },
  {
   "metadata": {
    "ExecuteTime": {
     "end_time": "2025-08-31T11:25:23.117880Z",
     "start_time": "2025-08-31T11:25:23.106197Z"
    }
   },
   "cell_type": "code",
   "source": "render_markdown(result)",
   "id": "88b468c802ceb8ec",
   "outputs": [
    {
     "data": {
      "text/plain": [
       "<IPython.core.display.Markdown object>"
      ],
      "text/markdown": "Chennai, the capital city of Tamil Nadu, is rich in cultural heritage, especially known for its beautiful temples and diverse culinary offerings. Here’s a personalized itinerary that focuses on temples and food:\n\n### Day 1: Temples\n\n1. **Kapaleeshwarar Temple:**\n   - *Location:* Mylapore\n   - *Description:* A stunning example of Dravidian architecture, this temple is dedicated to Lord Shiva. Visit early in the morning to experience the peaceful morning rituals.\n\n2. **Parthasarathy Temple:**\n   - *Location:* Triplicane\n   - *Description:* This ancient temple is devoted to Lord Krishna (Parthasarathy). It’s well-known for its intricate carvings and festive atmosphere.\n\n3. **Vadapalani Murugan Temple:**\n   - *Location:* Vadapalani\n   - *Description:* Dedicated to Lord Murugan, this temple is frequented by devotees seeking blessings for success in endeavors.\n\n4. **Sri Ramakrishna Math:**\n   - *Location:* Mylapore\n   - *Description:* A serene ashram dedicated to the teachings of Sri Ramakrishna. It offers a peaceful environment for meditation and spirituality.\n\n### Day 2: Exploring Food\n\n1. **Breakfast at Ratna Cafe:**\n   - *Location:* Triplicane\n   - *Specialty:* Known for its soft idlis and delicious sambar.\n\n2. **Lunch at Murugan Idli Shop:**\n   - *Location:* T. Nagar\n   - *Specialty:* Famous for a variety of idlis and chutneys, along with the traditional South Indian thali.\n\n3. **Evening Snack at Marina Beach:**\n   - *Location:* Alongside Marina Beach\n   - *Specialty:* Enjoy local snacks like sundal (spiced chickpeas) and bajji (vegetable fritters) while soaking in the sunset.\n\n4. **Dinner at Ponnusamy Hotel:**\n   - *Location:* T. Nagar or Nungambakkam\n   - *Specialty:* Experience a rich Chettinad cuisine with dishes like chicken Chettinadu, biryani, and pepper fry.\n\n### Day 3: Cultural and Culinary Experiences\n\n1. **Visit DakshinaChitra:**\n   - *Location:* East Coast Road\n   - *Description:* This heritage center showcases the art, culture, and architecture of South Indian states. Enjoy craft demonstrations, workshops, and traditional performances.\n\n2. **Explore George Town for Street Food:**\n   - *Specialty:* Try local specialties like kothu parotta (shredded parotta stir fry), biryani, and various sweets. The area is bustling with street vendors, so it’s perfect for a walking food tour.\n\n3. **Dinner at Annalakshmi Restaurant:**\n   - *Location:* Egmore\n   - *Specialty:* A unique dining experience where you pay as you wish. It serves authentic vegetarian South Indian cuisine in a serene ambiance.\n\n### Additional Tips:\n\n- **Transport:** Use local cabs or auto-rickshaws to get around. Ola and Uber are popular options in Chennai.\n- **Timing:** Temples may have specific timings, so it's best to check before visiting.\n- **Dress Code:** While visiting temples, it's advisable to dress modestly, covering shoulders and knees.\n\nEnjoy your culturally rich and flavorful journey in Chennai!"
     },
     "metadata": {},
     "output_type": "display_data"
    }
   ],
   "execution_count": 54
  }
 ],
 "metadata": {
  "kernelspec": {
   "display_name": "Python 3",
   "language": "python",
   "name": "python3"
  },
  "language_info": {
   "codemirror_mode": {
    "name": "ipython",
    "version": 2
   },
   "file_extension": ".py",
   "mimetype": "text/x-python",
   "name": "python",
   "nbconvert_exporter": "python",
   "pygments_lexer": "ipython2",
   "version": "2.7.6"
  }
 },
 "nbformat": 4,
 "nbformat_minor": 5
}
