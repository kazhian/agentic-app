{
 "cells": [
  {
   "metadata": {},
   "cell_type": "markdown",
   "source": [
    "### ReAct Agent with LangGraph\n",
    "#### Plan a trip to a destination based on preferences"
   ],
   "id": "6ee7033078d9bec9"
  },
  {
   "cell_type": "code",
   "execution_count": null,
   "id": "initial_id",
   "metadata": {
    "collapsed": true
   },
   "outputs": [],
   "source": [
    "# If you don't use requirements.txt, run the following command:\n",
    "\n",
    "!pip install ipython langgraph langchain-core langchain-openai python-dotenv langchain-community --quiet"
   ]
  },
  {
   "metadata": {
    "ExecuteTime": {
     "end_time": "2025-08-31T13:28:58.143081Z",
     "start_time": "2025-08-31T13:28:58.124080Z"
    }
   },
   "cell_type": "code",
   "source": [
    "# Environment Setup:\n",
    "# 1. Create a .env file in your project root if it doesn't exist\n",
    "# 2. Add your OpenAI API key: OPENAI_API_KEY='your-api-key-here'\n",
    "#    Example: OPENAI_API_KEY='sk-...'\n",
    "# Note: Make sure to add .env to your .gitignore file\n",
    "\n",
    "# Standard Libraries\n",
    "from dotenv import load_dotenv\n",
    "# IPython\n",
    "from IPython.display import display, Image, Markdown\n",
    "# Langchain\n",
    "from langchain_openai import ChatOpenAI\n",
    "from langchain_core.prompts import ChatPromptTemplate\n",
    "from langchain_core.output_parsers import StrOutputParser\n",
    "from langchain_community.tools import TavilySearchResults\n",
    "from langgraph.prebuilt import create_react_agent\n",
    "from langchain.agents import AgentExecutor"
   ],
   "id": "f45ed43e33e60f2c",
   "outputs": [],
   "execution_count": 10
  },
  {
   "metadata": {
    "ExecuteTime": {
     "end_time": "2025-08-31T13:16:04.747007Z",
     "start_time": "2025-08-31T13:16:04.740127Z"
    }
   },
   "cell_type": "code",
   "source": "_ = load_dotenv()",
   "id": "a50e7948cc24bdc0",
   "outputs": [],
   "execution_count": 2
  },
  {
   "metadata": {
    "ExecuteTime": {
     "end_time": "2025-08-31T13:16:07.579052Z",
     "start_time": "2025-08-31T13:16:07.016358Z"
    }
   },
   "cell_type": "code",
   "source": "model = ChatOpenAI(model_name=\"gpt-4o\")",
   "id": "b843e4cd2dc37028",
   "outputs": [],
   "execution_count": 3
  },
  {
   "metadata": {
    "ExecuteTime": {
     "end_time": "2025-08-31T13:18:42.097001Z",
     "start_time": "2025-08-31T13:18:42.091875Z"
    }
   },
   "cell_type": "code",
   "source": "tavily_search = TavilySearchResults(max_results=5)",
   "id": "dfc6aa3769db12ee",
   "outputs": [],
   "execution_count": 5
  },
  {
   "metadata": {
    "ExecuteTime": {
     "end_time": "2025-08-31T13:18:49.250373Z",
     "start_time": "2025-08-31T13:18:49.239679Z"
    }
   },
   "cell_type": "code",
   "source": [
    "from langchain_core.tools import tool\n",
    "from datetime import datetime as dt\n",
    "\n",
    "@tool\n",
    "def get_current_date():\n",
    "    \"\"\"Returns the current date and time. Use thist ool first ofr any date and time related queries.\"\"\"\n",
    "    return f\"The current date is: {dt.now().strftime('%Y-%m-%d %H:%M:%S')}.\""
   ],
   "id": "bcb9fbb02eb3ba13",
   "outputs": [],
   "execution_count": 6
  },
  {
   "metadata": {
    "ExecuteTime": {
     "end_time": "2025-08-31T13:18:54.701044Z",
     "start_time": "2025-08-31T13:18:54.696808Z"
    }
   },
   "cell_type": "code",
   "source": [
    "# List of the tools for the agent\n",
    "tools = [tavily_search, get_current_date]"
   ],
   "id": "f74bba0047354bc8",
   "outputs": [],
   "execution_count": 7
  },
  {
   "metadata": {
    "ExecuteTime": {
     "end_time": "2025-08-31T13:18:57.800807Z",
     "start_time": "2025-08-31T13:18:57.777855Z"
    }
   },
   "cell_type": "code",
   "source": "graph = create_react_agent(model, tools)",
   "id": "e739b0f3459f0b15",
   "outputs": [],
   "execution_count": 8
  },
  {
   "metadata": {
    "ExecuteTime": {
     "end_time": "2025-08-31T13:37:01.471110Z",
     "start_time": "2025-08-31T13:37:01.075138Z"
    }
   },
   "cell_type": "code",
   "source": "display(Image(graph.get_graph().draw_mermaid_png()))",
   "id": "6f5642d45157c115",
   "outputs": [
    {
     "data": {
      "image/png": "[encoded data removed]",
      "text/plain": [
       "<IPython.core.display.Image object>"
      ]
     },
     "metadata": {},
     "output_type": "display_data"
    }
   ],
   "execution_count": 16
  },
  {
   "metadata": {
    "ExecuteTime": {
     "end_time": "2025-08-31T13:32:18.985327Z",
     "start_time": "2025-08-31T13:32:18.980781Z"
    }
   },
   "cell_type": "code",
   "source": [
    "# Helper function to render Markdown\n",
    "def render_markdown(markdown_str):\n",
    "    display(Markdown(markdown_str))"
   ],
   "id": "6cc76d679f5e2905",
   "outputs": [],
   "execution_count": 11
  },
  {
   "metadata": {
    "ExecuteTime": {
     "end_time": "2025-08-31T13:37:42.710764Z",
     "start_time": "2025-08-31T13:37:42.705996Z"
    }
   },
   "cell_type": "code",
   "source": [
    "# Helper function to stream the agent's response\n",
    "def process_stream(stream):\n",
    "    for chunk in stream:\n",
    "        message = chunk[\"messages\"][-1]\n",
    "        if isinstance(message, tuple):\n",
    "            print(message)\n",
    "        else:\n",
    "            message.pretty_print()\n",
    "    return message"
   ],
   "id": "c78cf6a802e332f",
   "outputs": [],
   "execution_count": 17
  },
  {
   "metadata": {
    "ExecuteTime": {
     "end_time": "2025-08-31T13:37:45.923015Z",
     "start_time": "2025-08-31T13:37:45.917861Z"
    }
   },
   "cell_type": "code",
   "source": [
    "# Helper function to process query\n",
    "def process_query(query):\n",
    "    inputs = {\"messages\": [(\"user\", query)]}\n",
    "    message = process_stream(graph.stream(inputs, stream_mode=\"values\"))\n",
    "    render_markdown(f\"## Answer:\\n{message.content}\")"
   ],
   "id": "6872649f73108d0e",
   "outputs": [],
   "execution_count": 18
  },
  {
   "metadata": {
    "ExecuteTime": {
     "end_time": "2025-08-31T13:37:51.715818Z",
     "start_time": "2025-08-31T13:37:48.752604Z"
    }
   },
   "cell_type": "code",
   "source": "process_query(\"what is the current date\")",
   "id": "754207f2b01d3f8",
   "outputs": [
    {
     "name": "stdout",
     "output_type": "stream",
     "text": [
      "================================\u001B[1m Human Message \u001B[0m=================================\n",
      "\n",
      "what is the current date\n",
      "==================================\u001B[1m Ai Message \u001B[0m==================================\n",
      "Tool Calls:\n",
      "  get_current_date (call_mBDrR20lcVbnCV4dQ6DfKByc)\n",
      " Call ID: call_mBDrR20lcVbnCV4dQ6DfKByc\n",
      "  Args:\n",
      "=================================\u001B[1m Tool Message \u001B[0m=================================\n",
      "Name: get_current_date\n",
      "\n",
      "The current date is: 2025-08-31 19:07:49.\n",
      "==================================\u001B[1m Ai Message \u001B[0m==================================\n",
      "\n",
      "Today's date is August 31, 2025.\n"
     ]
    },
    {
     "data": {
      "text/plain": [
       "<IPython.core.display.Markdown object>"
      ],
      "text/markdown": "## Answer:\nToday's date is August 31, 2025."
     },
     "metadata": {},
     "output_type": "display_data"
    }
   ],
   "execution_count": 19
  },
  {
   "metadata": {
    "ExecuteTime": {
     "end_time": "2025-08-31T13:38:20.413165Z",
     "start_time": "2025-08-31T13:38:12.075827Z"
    }
   },
   "cell_type": "code",
   "source": [
    "process_query(\"who won the latest F1 race singapore\")\n",
    "\n",
    "#GPT-4o's training data only goes up to October 2023. The Singapore F1 race for 2024 or 2025 would be after its training period, so it can't know the winner from its training data."
   ],
   "id": "a0660b585ff836df",
   "outputs": [
    {
     "name": "stdout",
     "output_type": "stream",
     "text": [
      "================================\u001B[1m Human Message \u001B[0m=================================\n",
      "\n",
      "who won the latest F1 race singapore\n",
      "==================================\u001B[1m Ai Message \u001B[0m==================================\n",
      "Tool Calls:\n",
      "  get_current_date (call_O0FaZUXoAZ6IxARb5rmxmGSk)\n",
      " Call ID: call_O0FaZUXoAZ6IxARb5rmxmGSk\n",
      "  Args:\n",
      "  tavily_search_results_json (call_3BuIHTpdFnfqZPY5YMiNAPtB)\n",
      " Call ID: call_3BuIHTpdFnfqZPY5YMiNAPtB\n",
      "  Args:\n",
      "    query: latest F1 race Singapore winner\n",
      "=================================\u001B[1m Tool Message \u001B[0m=================================\n",
      "Name: tavily_search_results_json\n",
      "\n",
      "[{\"title\": \"Singapore Grand Prix\", \"url\": \"https://en.wikipedia.org/wiki/Singapore_Grand_Prix\", \"content\": \"F1's new-generation turbo-charged, hybrid-powered cars brought a new look to the track, ending the reign of the 2.4-litre power unit, but a controversial ban on radio communications dominated pre-race proceedings. Mercedes's Lewis Hamilton sailed to his seventh win of the year, becoming Singapore's third multiple winner in the process as teammate Nico Rosberg retired with technical problems. Sebastian Vettel, bound for Ferrari in 2015, finished second ahead of new Red Bull partner Daniel [...] Singapore pole in his Ferrari, and dominated the race until he was released early at a pit stop, breaking his fuel rig and dropping him to last place. The race was won by Fernando Alonso driving for the Renault team, though that result has since been tarnished by controversy. Renault were found to have ordered Nelson Piquet Jr. to crash, as the ensuing safety car would strongly benefit Alonso. [...] Sebastian Vettel took his third successive win in Singapore with Red Bull and the 33rd of his career as a fourth straight title also loomed. He did it from his second Singapore pole, recovering from the surprise of seeing Nico Rosberg's Mercedes briefly ahead at race start to take victory by over half a minute. Fernando Alonso was on the podium yet again before stopping his Ferrari to pick up Mark Webber \\\"Mark Webber (racing driver)\\\"), whose Red Bull was in flames at Turn 7.\\n\\n### 2014\", \"score\": 0.83093774}, {\"title\": \"5 Winners and 5 Losers from the Singapore Grand Prix\", \"url\": \"https://www.formula1.com/en/latest/article/5-winners-and-5-losers-from-the-singapore-grand-prix-who-sparkled-under-the.521xx4LsS38ch0zeJ5MN7N\", \"content\": \"SINGAPORE, SINGAPORE - SEPTEMBER 22: Race winner Lando Norris of Great Britain and McLaren\\n\\n### Loser: Daniel Ricciardo\\n\\nThis was the most challenging weekend of Daniel Ricciardo’s career. The Australian arrived in Singapore amid speculation his future in F1 was under threat.\\n\\nA strong showing in Friday practice raised hopes of a points-scoring finish, but he lost his way on Saturday and was booted out of qualifying in the first segment. [...] Lando Norris was the biggest winner of them all in Singapore as he converted a sensational pole position into a brilliant Grand Prix victory. But it wasn’t all smiles for everyone. Lawrence Barretto picks out his winners and losers under the lights at Marina Bay...\\n\\n### Winner: Lando Norris\\n\\nLando Norris delivered one of the most commanding drives in recent memory as he lapped the field up to and including eighth-placed Fernando Alonso. [...] He then held on for a top-10 finish with eighth to score points in Singapore for the first time since 2018.\\n\\nThe Spanish double world champion has now scored in four of the last five races, to remain a comfortable ninth in the drivers’ standings on 62 points, 38 clear of team mate Lance Stroll.\\n\\nSINGAPORE, SINGAPORE - SEPTEMBER 22: 8th placed Fernando Alonso of Spain and Aston Martin F1 Team\\n\\n### Loser: Lewis Hamilton\", \"score\": 0.82391036}, {\"title\": \"Past Results - Singapore Grand Prix - Sky Sports\", \"url\": \"https://www.skysports.com/f1/grandprix/singapore/results/2025/practice-1\", \"content\": \"Instant access to every F1 race and more top sport with NOW. Contract-free memberships available.\\n\\nFerrari driver Carlos Sainz of Spain leads the field into turn one at the start of the Singapore Formula One Grand Prix at the Marina Bay circuit, Singapore,Sunday, Sept. 17, 2023. (AP Photo/Vincent Thian)\\n\\n#### Download the App\\n\\nLatest F1 news & video on your mobile [...] Ferrari driver Carlos Sainz of Spain leads the field into turn one at the start of the Singapore Formula One Grand Prix at the Marina Bay circuit, Singapore,Sunday, Sept. 17, 2023. (AP Photo/Vincent Thian)\\n\\n#### Download the App\\n\\nLatest F1 news & video on your mobile\\n\\nMercedes driver George Russell, of the United Kingdom, leads the pack at the start of the F1 Canadian Grand Prix auto race in Montreal, Sunday, June 15, 2025. (Christinne Muschi/The Canadian Press via AP) [...] #### Get Sky Sports F1!\\n\\nDon't miss out on a minute of race action and the best analysis from Martin Brundle, Nico Rosberg and more with Sky Sports.\\n\\nGeorge Russell, Oscar Piastri, Lando Norris, Max Verstappen\\n\\n#### Stream with NOW\\n\\nInstant access to every F1 race and more top sport with NOW. Contract-free memberships available.\", \"score\": 0.8036831}, {\"title\": \"RACE RESULT - Singapore\", \"url\": \"https://www.formula1.com/en/results/2024/races/1246/singapore/race-result\", \"content\": \"| POS. | NO. | DRIVER | TEAM | LAPS | TIME / RETIRED | PTS. |\\n ---  ---  --- \\n| 1 | 4 | Lando NorrisNOR | McLaren Mercedes | 62 | 1:40:52.571 | 25 |\\n| 2 | 1 | Max VerstappenVER | Red Bull Racing Honda RBPT | 62 | +20.945s | 18 |\\n| 3 | 81 | Oscar PiastriPIA | McLaren Mercedes | 62 | +41.823s | 15 |\\n| 4 | 63 | George RussellRUS | Mercedes | 62 | +61.040s | 12 |\\n| 5 | 16 | Charles LeclercLEC | Ferrari | 62 | +62.430s | 10 |\\n| 6 | 44 | Lewis HamiltonHAM | Mercedes | 62 | +85.248s | 8 | [...] POS.\\n\\nNO.\\n\\nDRIVER\\n\\nTEAM\\n\\nLAPS\\n\\nTIME / RETIRED\\n\\nPTS.\\n\\n1\\n\\n4\\n\\nLando NorrisNOR\\n\\nMcLaren Mercedes\\n\\n62\\n\\n1:40:52.571\\n\\n25\\n\\n2\\n\\n1\\n\\nMax VerstappenVER\\n\\nRed Bull Racing Honda RBPT\\n\\n62\\n\\n+20.945s\\n\\n18\\n\\n3\\n\\n81\\n\\nOscar PiastriPIA\\n\\nMcLaren Mercedes\\n\\n62\\n\\n+41.823s\\n\\n15\\n\\n4\\n\\n63\\n\\nGeorge RussellRUS\\n\\nMercedes\\n\\n62\\n\\n+61.040s\\n\\n12\\n\\n5\\n\\n16\\n\\nCharles LeclercLEC\\n\\nFerrari\\n\\n62\\n\\n+62.430s\\n\\n10\\n\\n6\\n\\n44\\n\\nLewis HamiltonHAM\\n\\nMercedes\\n\\n62\\n\\n+85.248s\\n\\n8\\n\\n7\\n\\n55\\n\\nCarlos SainzSAI\\n\\nFerrari\\n\\n62\\n\\n+96.039s\\n\\n6\\n\\n8\\n\\n14\\n\\nFernando AlonsoALO [...] | 7 | 55 | Carlos SainzSAI | Ferrari | 62 | +96.039s | 6 |\\n| 8 | 14 | Fernando AlonsoALO | Aston Martin Aramco Mercedes | 61 | +1 lap | 4 |\\n| 9 | 27 | Nico HulkenbergHUL | Haas Ferrari | 61 | +1 lap | 2 |\\n| 10 | 11 | Sergio PerezPER | Red Bull Racing Honda RBPT | 61 | +1 lap | 1 |\\n| 11 | 43 | Franco ColapintoCOL | Williams Mercedes | 61 | +1 lap | 0 |\\n| 12 | 22 | Yuki TsunodaTSU | RB Honda RBPT | 61 | +1 lap | 0 |\\n| 13 | 31 | Esteban OconOCO | Alpine Renault | 61 | +1 lap | 0 |\", \"score\": 0.77446437}, {\"title\": \"Singapore Grand Prix 2025 - F1 Race\", \"url\": \"https://www.formula1.com/en/racing/2025/singapore\", \"content\": \"In 2008, Singapore had the honour of hosting the first night-time race in F1 history. The Grand Prix – the 15th round of that season – proved a huge hit with the teams and drivers, while Renault’s Fernando Alonso claimed a controversial victory.\\n\\nWhat’s the circuit like? [...] 2024 Singapore Grand Prix: Verstappen thanks Ricciardo for taking the fastest lap away from Norris\\n\\n2024 Singapore Grand Prix: Leclerc forces his way past Hulkenberg for P4\\n\\n2024 Singapore Grand Prix: Leclerc forces his way past Hulkenberg for P4\\n\\n2024 Singapore Grand Prix: Ricciardo drops down the order as Ocon and Magnussen pass in quick succession\\n\\n2024 Singapore Grand Prix: Ricciardo drops down the order as Ocon and Magnussen pass in quick succession\\n\\n## Related Articles [...] STEM Racing World Finals 02.jpg\\nAll Star line up at Zone 4 Padang Stage 169.png\\nF1 Global Summit & Awards Ceremony\\nsingapore-start-2024-f1.png\\nSINGAPORE, SINGAPORE - SEPTEMBER 22: Lando Norris of Great Britain driving the (4) McLaren MCL38\\nHinchcliffe-Singapore-V1.jpg\\n\\n## OUR PARTNERS\", \"score\": 0.6479992}]\n",
      "==================================\u001B[1m Ai Message \u001B[0m==================================\n",
      "\n",
      "The latest F1 race in Singapore was won by Lando Norris of McLaren Mercedes.\n"
     ]
    },
    {
     "data": {
      "text/plain": [
       "<IPython.core.display.Markdown object>"
      ],
      "text/markdown": "## Answer:\nThe latest F1 race in Singapore was won by Lando Norris of McLaren Mercedes."
     },
     "metadata": {},
     "output_type": "display_data"
    }
   ],
   "execution_count": 20
  },
  {
   "metadata": {
    "ExecuteTime": {
     "end_time": "2025-08-31T13:39:07.619107Z",
     "start_time": "2025-08-31T13:38:58.579668Z"
    }
   },
   "cell_type": "code",
   "source": "process_query(\"what is the weather tomorrow in Chennai\")",
   "id": "2a76854c3fdc845",
   "outputs": [
    {
     "name": "stdout",
     "output_type": "stream",
     "text": [
      "================================\u001B[1m Human Message \u001B[0m=================================\n",
      "\n",
      "what is the weather tomorrow in Chennai\n",
      "==================================\u001B[1m Ai Message \u001B[0m==================================\n",
      "Tool Calls:\n",
      "  get_current_date (call_1xQuTzIHnVRHdYgjcJERkHpF)\n",
      " Call ID: call_1xQuTzIHnVRHdYgjcJERkHpF\n",
      "  Args:\n",
      "  tavily_search_results_json (call_NSF1HifCX7CVZsqkfJKq0hUt)\n",
      " Call ID: call_NSF1HifCX7CVZsqkfJKq0hUt\n",
      "  Args:\n",
      "    query: Chennai weather forecast October 23 2023\n",
      "=================================\u001B[1m Tool Message \u001B[0m=================================\n",
      "Name: tavily_search_results_json\n",
      "\n",
      "[{\"title\": \"Weather in Chennai in October 2023 (State of Tamil Nādu)\", \"url\": \"https://world-weather.info/forecast/india/chennai_1/october-2023/\", \"content\": \"Weather\\n Archive\\n Weather Widget\\n\\n World\\n India\\n State of Tamil Nādu\\n Weather in Chennai\\n\\n# Weather in Chennai in October 2023\\n\\nChennai Weather Forecast for October 2023 is based on statistical data.\\n\\nJanFebMarAprMayJunJulAugSepOctNovDec\\n\\n  \\n\\n## October\\n\\nStart Week On\\n\\n Sun\\n Mon\\n Tue\\n Wed\\n Thu\\n Fri\\n Sat\\n\\n +88°\\n\\n  13.9 mph S 29.6 inHg82 %05:58 am05:59 pm\\n +88°\\n\\n  +81°\\n\\n  15 mph S 29.6 inHg82 %05:58 am05:58 pm\\n +88°\\n\\n  +81°\\n\\n  11.4 mph S 29.6 inHg82 %05:58 am05:57 pm\\n 4\\n\\n  +90°\\n\\n  +81° [...] 7.2 mph E 29.8 inHg69 %06:01 am05:44 pm\\n 28\\n\\n  +86°\\n\\n  +79°\\n\\n  10.3 mph E 29.8 inHg78 %06:01 am05:43 pm\\n 29\\n\\n  +86°\\n\\n  +79°\\n\\n  8.7 mph E 29.8 inHg75 %06:01 am05:43 pm\\n 30\\n\\n  +86°\\n\\n  +79°\\n\\n  8.9 mph NE 29.8 inHg67 %06:01 am05:43 pm\\n 31\\n\\n  +82°\\n\\n  +79°\\n\\n  11.6 mph NE 29.8 inHg73 %06:02 am05:42 pm\\n\\n  \\n\\n## Average weather in October 2023\\n\\n1 days\\n\\nPrecipitation\\n\\n18 days\\n\\nCloudy\\n\\n12 days\\n\\nSunny\\n\\nDay\\n\\n+86\\n\\n°F\\n\\nNight\\n\\n+80\\n\\n°F\\n\\nCompare with another month\\n\\n## Extended weather forecast in Chennai [...] +86°\\n\\n  +81°\\n\\n  6.9 mph NE 29.8 inHg74 %05:59 am05:47 pm\\n 21\\n\\n  +86°\\n\\n  +79°\\n\\n  8.7 mph NE 29.8 inHg82 %06:00 am05:47 pm\\n 22\\n\\n  +86°\\n\\n  +79°\\n\\n  7.8 mph NE 29.8 inHg72 %06:00 am05:46 pm\\n 23\\n\\n  +86°\\n\\n  +79°\\n\\n  8.9 mph E 29.7 inHg59 %06:00 am05:46 pm\\n 24\\n\\n  +86°\\n\\n  +77°\\n\\n  10.1 mph SE 29.8 inHg70 %06:00 am05:45 pm\\n 25\\n\\n  +86°\\n\\n  +77°\\n\\n  9.6 mph E 29.8 inHg68 %06:00 am05:45 pm\\n 26\\n\\n  +86°\\n\\n  +79°\\n\\n  7.6 mph NE 29.8 inHg75 %06:01 am05:44 pm\\n 27\\n\\n  +86°\\n\\n  +79°\", \"score\": 0.95261395}, {\"title\": \"Chennai in October: Weather, Average temperature and Climate\", \"url\": \"https://avionero.com/New-York-Chennai.NYC-MAA/weather/october\", \"content\": \"For this page, we’ve looked at the typical weather in Chennai, based on historical hourly weather data from January 1, 1979, to December 31, 2023.\\n\\nFor past dates, we show actual recorded data at the location at that time. Forecasts are based on recorded weather during that day of the year, averaged over the total years for which we have records (unless stated otherwise). The daily temperature is the highest recorded temperature in the shadow during that day. [...] Total precipitation\\n\\n82%\\n\\nAvg. humidity\\n\\n2 m/s\\n\\nAvg. wind\\n\\n2 ☀️\\n\\nSunny Days\\n\\n6 ⛅️\\n\\nCloudy\\n\\n19 🌦\\n\\nRainy\\n\\nOur opinion: Chennai has OK weather in October.\\n\\nAvionero - Smarter Travel Planning for a Better World\\n\\nCheapest prices on the market!\\n\\nCheck all your dates and date combinations in a single search!\\n\\nWant inspiration, set your dates and find the cheapest destinations!\\n\\nSaves your searches in the browser so you can easily return to them!\\n\\nDonates 10% of all revenue to charity! [...] Chennai wettest month is November, where a typical day has a 63% chance of precipitation and 224 mm of rainfall per day. March, on the other hand, is the driest month with a mere 13% chance of precipitation and 9 mm of rainfall per day.\\n\\n## How was the weather last October in Chennai?\\n\\nThis is the weather in Chennai in October 2024:\\n\\nSun\\n\\nMon\\n\\nTue\\n\\nWed\\n\\nThu\\n\\nFri\\n\\nSat\\n\\n1\\n\\n☁️\\n\\n+89°F\\n\\n2\\n\\n🌫️\\n\\n+89°F\\n\\n3\\n\\n🌫️\\n\\n4\\n\\n🌫️\\n\\n+88°F\\n\\n5\\n\\n🌫️\\n\\n+88°F\\n\\n6\\n\\n🌫️\\n\\n+88°F\\n\\n7\\n\\n🌫️\\n\\n+88°F\\n\\n8\\n\\n🌫️\\n\\n9\\n\\n🌫️\\n\\n+87°F\\n\\n10\\n\\n🌫️\\n\\n+87°F\", \"score\": 0.70483154}, {\"title\": \"2023 Weather History in Chennai Tamil Nadu, India\", \"url\": \"https://weatherspark.com/h/y/110123/2023/Historical-Weather-during-2023-in-Chennai-Tamil-Nadu-India\", \"content\": \"including the Chennai temperature history for 2023. You can drill down from year to month and even day level reports by clicking on the graphs.  Chennai Temperature History 2023 Link  Download  Compare  Averages  History:202520242023202220212020201920182017  Temperature history in 2023 in ChennaiJanFebMarAprMayJunJulAugSepOctNovDec65Â°F65Â°F70Â°F70Â°F75Â°F75Â°F80Â°F80Â°F85Â°F85Â°F90Â°F90Â°F95Â°F95Â°F100Â°F100Â°F105Â°F105Â°F110Â°F110Â°F  The daily range of reported temperatures (gray bars) and [...] The information on this site is provided as is, without any assurances as to its accuracy or suitability for any purpose. Weather data is prone to errors, outages, and other defects. We assume no responsibility for any decisions made on the basis of the content presented on this site. [...] |  |  |\\n --- |\\n|  |  |\", \"score\": 0.5486983}, {\"title\": \"Chennai weather in October 2025 - Weather25.com\", \"url\": \"https://www.weather25.com/asia/india/tamil-nadu/chennai?page=month&month=October\", \"content\": \"The average temperature in Chennai in October is 80/89° F.\\n\\nOn average, there are 11 rainy days in Chennai during October.\\n\\nThe weather in Chennai in October is ok.\\n\\nOn average, there are 0 snowy days in Chennai in October. [...] If you’re planning to visit Chennai in the near future, we highly recommend that you review the 14 day weather forecast for Chennai before you arrive.\\n\\n27° / 24°\\n\\nRainy Days\\n\\n3\\n\\nSnowy Days\\n\\n0\\n\\nDry Days\\n\\n6\\n\\nRainfall\\n\\n3\\n\\nin\\n\\nSun Hours\\n\\n3\\n\\nHrs\\n\\nHistoric average weather for October\\n\\nOctober [...] # Chennai weather in October 2025\\n\\nThe temperatures in Chennai during October are extremely high, between 80°F and hot as 89°F, drinking water regularly is advisable.\\n\\nYou can expect rain for roughly half of the month of October in Chennai. We’re expecting roughly 8 to 15 days of rain, so your rubber boots and umbrella are going to see plenty of use this month if you’re keen on staying dry.\\n\\nOur weather forecast can give you a great sense of what weather to expect in Chennai in October 2025.\", \"score\": 0.4833807}, {\"title\": \"Chennai, Tamil Nadu, India Monthly Weather - AccuWeather\", \"url\": \"https://www.accuweather.com/en/in/chennai/206671/october-weather/206671\", \"content\": \"## October\\n\\nJanuary\\nFebruary\\nMarch\\nApril\\nMay\\nJune\\nJuly\\nAugust\\nSeptember\\nOctober\\nNovember\\nDecember\\n\\n## 2025\\n\\n2024\\n2025\\n2026\\n\\n## Daily\\n\\nS\\n\\nM\\n\\nT\\n\\nW\\n\\nT\\n\\nF\\n\\nS\\n\\n28\\n\\n91°\\n\\n76°\\n29\\n\\n90°\\n\\n77°\\n30\\n\\n89°\\n\\n77°\\n1\\n\\n89°\\n\\n78°\\n2\\n\\n90°\\n\\n77°\\n3\\n\\n89°\\n\\n76°\\n4\\n\\n89°\\n\\n75°\\n5\\n\\n90°\\n\\n76°\\n6\\n\\n89°\\n\\n76°\\n7\\n\\n90°\\n\\n77°\\n8\\n\\n91°\\n\\n75°\\n9\\n\\n90°\\n\\n76°\\n10\\n\\n91°\\n\\n77°\\n11\\n\\n90°\\n\\n77°\\n12\\n\\n89°\\n\\n76°\\n13\\n\\n89°\\n\\n77°\\n14\\n\\n90°\\n\\n76°\\n15\\n\\n89°\\n\\n77°\\n16\\n\\n92°\\n\\n78°\\n17\\n\\n91°\\n\\n77°\\n18\\n\\n91°\\n\\n76°\\n19\\n\\n90°\\n\\n75°\\n20\\n\\n91°\\n\\n75°\\n21\\n\\n91°\\n\\n76°\\n22\\n\\n90°\\n\\n75°\\n23\\n\\n91°\\n\\n75°\\n24\\n\\n89°\\n\\n76°\\n25\", \"score\": 0.43698296}]\n",
      "==================================\u001B[1m Ai Message \u001B[0m==================================\n",
      "\n",
      "The current year is 2025, so the exact weather for tomorrow's date in 2023 might not be available from current sources since it requires past data. However, for historical climatological forecasts in this period, Chennai tends to have warm temperatures during October, with moderate humidity and a chance of rain. Typically, October temperatures in Chennai range from about 79°F (26°C) at night to 86°F (30°C) during the day. Expect possible rainfall as it's the monsoon season.\n",
      "\n",
      "For any specific weather details or additional data, please check a current forecast source like a weather website or application closer to the date for the most accurate information.\n"
     ]
    },
    {
     "data": {
      "text/plain": [
       "<IPython.core.display.Markdown object>"
      ],
      "text/markdown": "## Answer:\nThe current year is 2025, so the exact weather for tomorrow's date in 2023 might not be available from current sources since it requires past data. However, for historical climatological forecasts in this period, Chennai tends to have warm temperatures during October, with moderate humidity and a chance of rain. Typically, October temperatures in Chennai range from about 79°F (26°C) at night to 86°F (30°C) during the day. Expect possible rainfall as it's the monsoon season.\n\nFor any specific weather details or additional data, please check a current forecast source like a weather website or application closer to the date for the most accurate information."
     },
     "metadata": {},
     "output_type": "display_data"
    }
   ],
   "execution_count": 21
  },
  {
   "metadata": {
    "ExecuteTime": {
     "end_time": "2025-08-31T13:40:29.026817Z",
     "start_time": "2025-08-31T13:40:27.877924Z"
    }
   },
   "cell_type": "code",
   "source": "process_query(\"what is the capital of Malaysia\")",
   "id": "4d558b0e1549e531",
   "outputs": [
    {
     "name": "stdout",
     "output_type": "stream",
     "text": [
      "================================\u001B[1m Human Message \u001B[0m=================================\n",
      "\n",
      "what is the capital of Malaysia\n",
      "==================================\u001B[1m Ai Message \u001B[0m==================================\n",
      "\n",
      "The capital of Malaysia is Kuala Lumpur.\n"
     ]
    },
    {
     "data": {
      "text/plain": [
       "<IPython.core.display.Markdown object>"
      ],
      "text/markdown": "## Answer:\nThe capital of Malaysia is Kuala Lumpur."
     },
     "metadata": {},
     "output_type": "display_data"
    }
   ],
   "execution_count": 22
  }
 ],
 "metadata": {
  "kernelspec": {
   "display_name": "Python 3",
   "language": "python",
   "name": "python3"
  },
  "language_info": {
   "codemirror_mode": {
    "name": "ipython",
    "version": 2
   },
   "file_extension": ".py",
   "mimetype": "text/x-python",
   "name": "python",
   "nbconvert_exporter": "python",
   "pygments_lexer": "ipython2",
   "version": "2.7.6"
  }
 },
 "nbformat": 4,
 "nbformat_minor": 5
}
